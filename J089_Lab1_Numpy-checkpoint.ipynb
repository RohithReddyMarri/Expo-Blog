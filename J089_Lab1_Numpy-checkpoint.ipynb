{
  "cells": [
    {
      "cell_type": "raw",
      "metadata": {
        "vscode": {
          "languageId": "raw"
        }
      },
      "source": [
        "---\n",
        "title: \"Assign\"\n",
        "---"
      ]
    },
    {
      "cell_type": "code",
      "execution_count": null,
      "metadata": {
        "id": "IZLwNgdS-ndV"
      },
      "outputs": [],
      "source": [
        "import numpy as np\n",
        "import matplotlib.pyplot as plt\n",
        "%matplotlib inline\n",
        "%config InlineBackend.figure_format = 'retina'\n",
        "%pip install pydub -q"
      ]
    },
    {
      "cell_type": "markdown",
      "metadata": {
        "id": "AnUxKd3FsdSJ"
      },
      "source": [
        "\n",
        "# **Creating Arrays**\n",
        "\n",
        "#### 1. Create a 1D array with 20 random integers between 1 and 100.\n",
        "**Hint:** Use the `np.random.randint()` function, specifying the range and size.\n",
        "#### 2. Create a 5x5 matrix where all the border elements are 1, and the inside elements are 0.\n",
        "#### 3. Create a diagonal matrix with values `[1, 2, 3, 4]` on the diagonal.\n",
        "#### 4. Create an array of shape (3, 3) where each row contains numbers from 1 to 3.\n",
        "**Hint:** Use `np.tile()` to repeat arrays along rows or columns.\n",
        "#### 5. Create a 1D array with alternating 0s and 1s of length 10.\n",
        "#### 6. Create a 3x3 matrix with random integers between 10 and 20, and set the datatype to `int32`."
      ]
    },
    {
      "cell_type": "code",
      "execution_count": 123,
      "metadata": {
        "cellView": "form",
        "colab": {
          "base_uri": "https://localhost:8080/"
        },
        "id": "UdYlghUT64ch",
        "outputId": "59515e12-fd8a-41ca-8db9-151d00c6c3af"
      },
      "outputs": [
        {
          "name": "stdout",
          "output_type": "stream",
          "text": [
            "[98 32 82 60 17 41 44 93 73 20 29 84 90 12 31 72 92 64 71 56]\n"
          ]
        }
      ],
      "source": [
        "# @title 1\n",
        "arr_1D = np.random.randint(1,101,20)\n",
        "print(arr_1D)"
      ]
    },
    {
      "cell_type": "code",
      "execution_count": 124,
      "metadata": {
        "cellView": "form",
        "colab": {
          "base_uri": "https://localhost:8080/"
        },
        "id": "WBs-Epkn_hDn",
        "outputId": "9e505877-0867-43e0-d87d-b09c412c1b3a"
      },
      "outputs": [
        {
          "name": "stdout",
          "output_type": "stream",
          "text": [
            "[[1. 1. 1. 1. 1.]\n",
            " [1. 0. 0. 0. 1.]\n",
            " [1. 0. 0. 0. 1.]\n",
            " [1. 0. 0. 0. 1.]\n",
            " [1. 1. 1. 1. 1.]]\n"
          ]
        }
      ],
      "source": [
        "# @title 2\n",
        "matrix = np.ones((5,5))\n",
        "matrix[1:4,1:4] = 0\n",
        "print(matrix)"
      ]
    },
    {
      "cell_type": "code",
      "execution_count": 126,
      "metadata": {
        "cellView": "form",
        "colab": {
          "base_uri": "https://localhost:8080/"
        },
        "id": "t-V4xROF_kV3",
        "outputId": "ce85b635-2e5a-4c3b-fd38-ac2573efd101"
      },
      "outputs": [
        {
          "name": "stdout",
          "output_type": "stream",
          "text": [
            "[[1 0 0 0]\n",
            " [0 2 0 0]\n",
            " [0 0 3 0]\n",
            " [0 0 0 4]]\n"
          ]
        }
      ],
      "source": [
        "# @title 3\n",
        "x = (1,2,3,4)\n",
        "diag_mat = np.diag(x)\n",
        "print(diag_mat)"
      ]
    },
    {
      "cell_type": "code",
      "execution_count": 127,
      "metadata": {
        "cellView": "form",
        "colab": {
          "base_uri": "https://localhost:8080/"
        },
        "id": "r-zKBNh-DGlO",
        "outputId": "22137aec-4563-4520-a0b8-dc942dcde386"
      },
      "outputs": [
        {
          "name": "stdout",
          "output_type": "stream",
          "text": [
            "[[1 2 3]\n",
            " [1 2 3]\n",
            " [1 2 3]]\n"
          ]
        }
      ],
      "source": [
        "# @title 4\n",
        "Row1 = np.array([1,2,3])\n",
        "arr = np.tile(Row1,(3,1))\n",
        "print(arr)"
      ]
    },
    {
      "cell_type": "code",
      "execution_count": 128,
      "metadata": {
        "cellView": "form",
        "colab": {
          "base_uri": "https://localhost:8080/"
        },
        "id": "-YeaNgWwyCUc",
        "outputId": "7fb38880-0eee-4975-9723-3ef06d58da58"
      },
      "outputs": [
        {
          "name": "stdout",
          "output_type": "stream",
          "text": [
            "[[0 1 0 1 0 1 0 1 0 1]]\n"
          ]
        }
      ],
      "source": [
        "# @title 5\n",
        "arr = np.array([0,1])\n",
        "arr_1D = np.tile(arr,(1,5))\n",
        "print(arr_1D)"
      ]
    },
    {
      "cell_type": "code",
      "execution_count": 129,
      "metadata": {
        "cellView": "form",
        "colab": {
          "base_uri": "https://localhost:8080/"
        },
        "id": "kK8c5UBIyYua",
        "outputId": "965979b0-723d-49c7-8ed7-35d4e274271a"
      },
      "outputs": [
        {
          "name": "stdout",
          "output_type": "stream",
          "text": [
            "[[17 15 13]\n",
            " [16 17 19]\n",
            " [17 13 18]]\n"
          ]
        }
      ],
      "source": [
        "# @title 6\n",
        "matrix = np.random.randint(11,20,(3,3),dtype=np.int32)\n",
        "print(matrix)"
      ]
    },
    {
      "cell_type": "markdown",
      "metadata": {
        "id": "DkYcM2eukdxR"
      },
      "source": [
        "# **Array Attributes**\n",
        "\n",
        "####1. Create a NumPy array of shape (4, 5) filled with random integers between 1 and 10. Now use an appropriate attribute of an array and find the following:\n",
        "\n",
        "\n",
        "```\n",
        "# This is formatted as code\n",
        "```\n",
        "\n",
        "\n",
        "  1. shape of the array\n",
        "  2. size of the array\n",
        "  3. number of dimensions\n",
        "  4. data type\n",
        "\n",
        "####2. Write a Python function that takes an array as input and returns the number of dimensions (ndim) of the array.\n",
        "Test the function with the following arrays:\n",
        "\n",
        "  1. A 1D array with 5 elements.\n",
        "  2. A 2D array of size (3x4).\n",
        "  3. A 3D array of size (2x3x4).\n",
        "\n",
        "\n",
        "####3. Create a NumPy array with the elements between 1 to 100 and use the dtype attribute to find out the data type of the elements. Modify the program to create arrays with elements of type float and string, and observe the changes in dtype.\n",
        "\n",
        "####4. Write a Python function that:\n",
        "  1. Creates a 6×3 array of integers using NumPy.\n",
        "  2. Prints the shape of the array using the shape attribute.\n",
        "  3. Reshapes the array to 3×6 and prints the new shape.\n",
        "\n",
        "\n",
        "\n",
        "####5. Write a program to:\n",
        "  1. Create an array of any size with all elements being 0 and use the appropriate attribute to print the size (in bytes) of each element in the array.\n",
        "  2. Create an array of any size with elements between 1 to 10 and print the size.\n",
        "  3. Create another array with floating-point numbers of any size and observe how the size changes.\n",
        "\n"
      ]
    },
    {
      "cell_type": "code",
      "execution_count": 130,
      "metadata": {
        "cellView": "form",
        "colab": {
          "base_uri": "https://localhost:8080/"
        },
        "id": "qmUajOBgANZQ",
        "outputId": "1d19e8fd-423a-49a8-d509-ef85b1c34401"
      },
      "outputs": [
        {
          "name": "stdout",
          "output_type": "stream",
          "text": [
            "(4, 5)\n",
            "20\n",
            "2\n",
            "int64\n"
          ]
        }
      ],
      "source": [
        "\n",
        "# @title 1\n",
        "arr = np.random.randint(2,10,(4,5))\n",
        "print(arr.shape)\n",
        "print(arr.size)\n",
        "print(arr.ndim)\n",
        "print(arr.dtype)"
      ]
    },
    {
      "cell_type": "code",
      "execution_count": 131,
      "metadata": {
        "cellView": "form",
        "colab": {
          "base_uri": "https://localhost:8080/"
        },
        "id": "0hCT9P097_1d",
        "outputId": "009eced2-480c-4ac4-c4c4-03760a898d18"
      },
      "outputs": [
        {
          "name": "stdout",
          "output_type": "stream",
          "text": [
            "1\n",
            "2\n",
            "3\n"
          ]
        }
      ],
      "source": [
        "# @title 2\n",
        "def function(x) :\n",
        "    dim = np.ndim(x)\n",
        "    return dim\n",
        "arr_1D = np.random.randint(0,10,(5,))\n",
        "print(function(arr_1D))\n",
        "arr_2D = np.random.randint(0,10,(3,4))\n",
        "print(function(arr_2D))\n",
        "arr_3D = np.random.randint(0,10,(2,3,4))\n",
        "print(function(arr_3D))"
      ]
    },
    {
      "cell_type": "code",
      "execution_count": 132,
      "metadata": {
        "cellView": "form",
        "colab": {
          "base_uri": "https://localhost:8080/"
        },
        "id": "HzqJQyFw-_tP",
        "outputId": "4da632bc-1ba2-4cb0-c984-a9e022618d95"
      },
      "outputs": [
        {
          "name": "stdout",
          "output_type": "stream",
          "text": [
            "int64\n",
            "float64\n",
            "<U3\n"
          ]
        }
      ],
      "source": [
        "# @title 3\n",
        "arr_int = np.arange(1,101,dtype=int)\n",
        "print(arr_int.dtype)\n",
        "arr_float = np.arange(1,101,dtype=float)\n",
        "print(arr_float.dtype)\n",
        "arr_str = np.array([str(i) for i in range(1,101)])\n",
        "print(arr_str.dtype)"
      ]
    },
    {
      "cell_type": "code",
      "execution_count": 141,
      "metadata": {
        "cellView": "form",
        "colab": {
          "base_uri": "https://localhost:8080/"
        },
        "id": "7HPjgP05CTjX",
        "outputId": "d7e5145c-470d-4cc6-9790-ccc78cabddcc"
      },
      "outputs": [
        {
          "name": "stdout",
          "output_type": "stream",
          "text": [
            "original array \n",
            ": [[9 3 2]\n",
            " [9 2 1]\n",
            " [6 6 4]\n",
            " [2 8 2]\n",
            " [3 1 2]\n",
            " [6 8 8]]\n",
            "shape of original array = (6, 3)\n",
            "reshaped array \n",
            ": [[9 3 2 9 2 1]\n",
            " [6 6 4 2 8 2]\n",
            " [3 1 2 6 8 8]]\n",
            "shape of reshaped array = (3, 6)\n"
          ]
        }
      ],
      "source": [
        "# @title 4\n",
        "def fun(arr):\n",
        "    arr = np.random.randint(1,10,(6,3),int)\n",
        "    print('original array :\\n',arr)\n",
        "    print('shape of original array =',arr.shape)\n",
        "    arr_reshape = arr.reshape((3,6))\n",
        "    print('reshaped array :\\n',arr_reshape)\n",
        "    print('shape of reshaped array =',arr_reshape.shape)\n",
        "fun(arr)"
      ]
    },
    {
      "cell_type": "code",
      "execution_count": 142,
      "metadata": {
        "cellView": "form",
        "colab": {
          "base_uri": "https://localhost:8080/"
        },
        "id": "AeqF84_uDFfh",
        "outputId": "8fd8ea03-70a7-42b7-d2a7-7661eb8ee86e"
      },
      "outputs": [
        {
          "name": "stdout",
          "output_type": "stream",
          "text": [
            "size of elements in arr_zeroes : 8\n",
            "size of elements in arr_int : 8\n",
            "size of elements in arr_float : 8\n"
          ]
        }
      ],
      "source": [
        "# @title 5\n",
        "arr_zeroes = np.zeros(10)\n",
        "print('size of elements in arr_zeroes :',arr.itemsize)\n",
        "arr_int = np.random.randint(1,10,10,int)\n",
        "print('size of elements in arr_int :',arr.itemsize)\n",
        "list_float = np.arange(1,10,dtype=float)\n",
        "arr_float = np.array(list_float)\n",
        "print('size of elements in arr_float :',y.itemsize)"
      ]
    },
    {
      "cell_type": "markdown",
      "metadata": {
        "id": "ItnxYBtVzYiL"
      },
      "source": [
        "# **Sorting and Partioning**\n",
        "\n",
        "####1. Given an array arr, sort the array in ascending order without modifying the original array. Print both the original and sorted arrays.(use np.sort())\n",
        "\n",
        "####2. You have arr = np.array([50, 30, 40, 20]) and names = np.array([\"A\", \"B\", \"C\", \"D\"]).\n",
        "Sort the arr values in ascending order and rearrange the names array accordingly.(use np.argsort() to get sorted indices and reorder names)\n",
        "\n",
        "####3. Write code to find the k smallest elements from the array arr. Print these elements in ascending order.(use np.partition())\n",
        "\n",
        "####4. Partition the array arr such that all elements smaller than a particular number(user input) appear before those greater than or equal to that number. Print the partitioned array.(use np.partition() to find the pivot value's index)\n",
        "\n",
        "####5. Sort each row of a 2D array arr in ascending order.(use np.sort() with axis parameter)\n",
        "\n",
        "####6. Print k largest elements of an array arr in descending order.(use np.partition() to find top k elements)\n",
        "\n",
        "####7. Given an array arr(containing possible negative values), sort the array in ascending order based on the absolute values of the elements. Print the sorted array.(use np.argsort() with a custom key for absolute values)\n",
        "\n",
        "####8. Given an array arr, sort only the elements greater than k in ascending order, keeping the other elements in their original positions.(create a mask to find elements greater than k, use np.sort() to sort them then reassign the sorted values back to their original indices in the array)"
      ]
    },
    {
      "cell_type": "code",
      "execution_count": null,
      "metadata": {
        "cellView": "form",
        "colab": {
          "base_uri": "https://localhost:8080/"
        },
        "id": "gbEuwy5wGjEn",
        "outputId": "4559a2d0-bc5d-4ff2-a471-1427c30d00a6"
      },
      "outputs": [
        {
          "name": "stdout",
          "output_type": "stream",
          "text": [
            "Sorted copy: [ 3  5 43 45 45 45 56 63]\n",
            "Original: [5, 45, 63, 56, 43, 45, 3, 45]\n"
          ]
        }
      ],
      "source": [
        "# @title 1\n",
        "arr = [5,45,63,56,43,45,3,45]\n",
        "print(\"Sorted copy:\", np.sort(arr))\n",
        "print(\"Original:\",arr)"
      ]
    },
    {
      "cell_type": "code",
      "execution_count": 143,
      "metadata": {
        "cellView": "form",
        "colab": {
          "base_uri": "https://localhost:8080/"
        },
        "id": "8pw82SpaI2qS",
        "outputId": "29fd4a9b-a973-4624-cb0a-63adce732e19"
      },
      "outputs": [
        {
          "name": "stdout",
          "output_type": "stream",
          "text": [
            "sorted array = [20 30 40 50]\n",
            "sorted names = ['D' 'B' 'C' 'A']\n"
          ]
        }
      ],
      "source": [
        "# @title 2\n",
        "arr = np.array([50, 30, 40, 20])\n",
        "names = np.array([\"A\", \"B\", \"C\", \"D\"])\n",
        "sort_indices = np.argsort(arr)\n",
        "print('sorted array =',arr[sort_indices])\n",
        "print('sorted names =',names[sort_indices])"
      ]
    },
    {
      "cell_type": "code",
      "execution_count": 146,
      "metadata": {
        "cellView": "form",
        "colab": {
          "base_uri": "https://localhost:8080/"
        },
        "id": "bdX5hj1LI4Ne",
        "outputId": "59b1e988-929a-4cae-9c1d-56522ace304a"
      },
      "outputs": [
        {
          "name": "stdout",
          "output_type": "stream",
          "text": [
            "Enter a Number :11\n",
            "[ 3 16 18 26 27 29 33 38 46 47 57]\n"
          ]
        }
      ],
      "source": [
        "# @title 3\n",
        "k = int(input('Enter a Number :'))\n",
        "arr = np.random.randint(1,100,20)\n",
        "partitioned_arr = np.partition(arr,k)\n",
        "print(np.sort(partitioned_arr[0:k]))"
      ]
    },
    {
      "cell_type": "code",
      "execution_count": 152,
      "metadata": {
        "cellView": "form",
        "colab": {
          "base_uri": "https://localhost:8080/"
        },
        "id": "YxzJkvjrI5dQ",
        "outputId": "e8881af0-0094-400b-eaaa-0cae47293c6e"
      },
      "outputs": [
        {
          "name": "stdout",
          "output_type": "stream",
          "text": [
            "Enter the pivot value :40\n",
            "original array = [46 33 63 56 94  8  4 11 52 10 82 50 27 28  1 37 58 57 37 66]\n",
            "partitioned array = [ 8  1 11  4 10 27 28 33 37 37 46 50 82 52 94 56 58 57 63 66]\n",
            "index of the pivot value = 10\n"
          ]
        }
      ],
      "source": [
        "# @title 4\n",
        "pivot = int(input('Enter the pivot value :'))\n",
        "arr = np.random.randint(1,100,20)\n",
        "print('original array =',arr)\n",
        "partitioned_arr = np.partition(arr,np.searchsorted(arr,pivot))\n",
        "print('partitioned array =',partitioned_arr)\n",
        "print('index of the pivot value =',np.searchsorted(partitioned_arr,pivot))"
      ]
    },
    {
      "cell_type": "code",
      "execution_count": 155,
      "metadata": {
        "cellView": "form",
        "colab": {
          "base_uri": "https://localhost:8080/"
        },
        "id": "h9gp8gnPI6Py",
        "outputId": "81508b3f-1795-41dc-c7f4-16781fe61f0b"
      },
      "outputs": [
        {
          "name": "stdout",
          "output_type": "stream",
          "text": [
            "[[ 43 137 147]\n",
            " [ 81 114 134]\n",
            " [ 44  53 115]]\n"
          ]
        }
      ],
      "source": [
        "# @title 5\n",
        "arr_2D = np.random.randint(1,200,(3,3))\n",
        "sort_arr_2D= np.sort(arr_2D,axis = 1)\n",
        "print(sort_arr_2D)"
      ]
    },
    {
      "cell_type": "code",
      "execution_count": 156,
      "metadata": {
        "cellView": "form",
        "colab": {
          "base_uri": "https://localhost:8080/"
        },
        "id": "O3Il9RhPI6HM",
        "outputId": "f3c092a7-2a91-4efa-ccd7-c6c246845f7e"
      },
      "outputs": [
        {
          "name": "stdout",
          "output_type": "stream",
          "text": [
            "Enter the value of k :14\n",
            "[106 167 170  57 100 155  81  83 107 132 186 152 189  14   4  99  65 162\n",
            "  81 172 116 153  41 119 167 173  53  24 102  11]\n",
            "[186 172 189 173 170 167 162 167 155 153 132 152 119 116]\n"
          ]
        }
      ],
      "source": [
        "# @title 6\n",
        "arr = np.random.randint(1,200,30)\n",
        "k = int(input('Enter the value of k :'))\n",
        "partitioned_arr = np.partition(arr,30-k)\n",
        "final_arr = partitioned_arr[30-k:]\n",
        "reverse_final_arr = final_arr[::-1]\n",
        "print(arr)\n",
        "print(reverse_final_arr)"
      ]
    },
    {
      "cell_type": "code",
      "execution_count": 157,
      "metadata": {
        "cellView": "form",
        "colab": {
          "base_uri": "https://localhost:8080/"
        },
        "id": "_zWG9uQpI580",
        "outputId": "deb2a3c1-a52d-4f67-f91d-8d67a43aa223"
      },
      "outputs": [
        {
          "name": "stdout",
          "output_type": "stream",
          "text": [
            "[ -77 -193 -135 -124 -130  -23 -111  125  -45   13   68  -14 -139 -144\n",
            "  -42 -111 -103   -9  -29 -129]\n",
            "[  -9   13  -14  -23  -29  -42  -45   68  -77 -103 -111 -111 -124  125\n",
            " -129 -130 -135 -139 -144 -193]\n"
          ]
        }
      ],
      "source": [
        "# @title 7\n",
        "og_arr = np.random.randint(-200,200,size = 20)\n",
        "final_arr = np.argsort(np.abs(og_arr))\n",
        "print(og_arr)\n",
        "print(og_arr[final_arr])"
      ]
    },
    {
      "cell_type": "code",
      "execution_count": 163,
      "metadata": {
        "cellView": "form",
        "colab": {
          "base_uri": "https://localhost:8080/"
        },
        "id": "b7IlQKp0I5vy",
        "outputId": "b806f0bd-753f-40a3-f45a-f45d10bedf3b"
      },
      "outputs": [
        {
          "name": "stdout",
          "output_type": "stream",
          "text": [
            "[19  1  6  6  7 11  7  7  5 11]\n",
            "Enter the value of k :10\n",
            "[ True False False False False  True False False False  True]\n",
            "[19 11 11]\n",
            "ascended_array : [11  1  6  6  7 11  7  7  5 19]\n"
          ]
        }
      ],
      "source": [
        "# @title 8\n",
        "arr = np.random.randint(1,20,size=(10))\n",
        "print(arr)\n",
        "k = int(input('Enter the value of k :'))\n",
        "mask = arr > k\n",
        "print(mask)\n",
        "print(arr[mask])\n",
        "arr[mask]=np.sort(arr[mask])\n",
        "print('ascended_array :',arr)"
      ]
    },
    {
      "cell_type": "markdown",
      "metadata": {
        "id": "gPghNT4V8CFw"
      },
      "source": [
        "# **Indexing and slicing**"
      ]
    },
    {
      "cell_type": "markdown",
      "metadata": {
        "id": "O9CJs-Un8X3_"
      },
      "source": [
        "#### 1. 2D Array Indexing\n",
        "Consider the following 2D array:\n",
        "`arr_2d = np.array([[5, 10, 15], [20, 25, 30], [35, 40, 45]])`\n",
        "- Access the element at row index 1 and column index 2.\n",
        "- Extract the first row.\n",
        "- Extract the last column."
      ]
    },
    {
      "cell_type": "code",
      "execution_count": 99,
      "metadata": {
        "colab": {
          "base_uri": "https://localhost:8080/"
        },
        "id": "u5OqhgLH5LHr",
        "outputId": "7578b99b-b83d-4d90-8082-fe17efb69c13"
      },
      "outputs": [
        {
          "name": "stdout",
          "output_type": "stream",
          "text": [
            "element in R1 and C2 = 30\n",
            "First Row :\n",
            " [[ 5 10 15]]\n",
            "Last Colum:\n",
            " [[15]\n",
            " [30]\n",
            " [45]]\n"
          ]
        }
      ],
      "source": [
        "arr_2d = np.array([[5, 10, 15], [20, 25, 30], [35, 40, 45]])\n",
        "print('element in R1 and C2 =',arr_2d[1,2])\n",
        "first_row = arr_2d[:1,:]\n",
        "print('First Row :\\n',first_row)\n",
        "last_clm = arr_2d[:,2:]\n",
        "print('Last Colum:\\n',last_clm)"
      ]
    },
    {
      "cell_type": "markdown",
      "metadata": {
        "id": "aXGnlXAo8ai8"
      },
      "source": [
        "#### 2. Boolean Indexing\n",
        "Given an array `arr = np.array([2, 5, 8, 11, 14, 17, 20])`, use boolean indexing to:\n",
        "- Extract all values greater than 10.\n",
        "- Replace all values greater than 15 with -1."
      ]
    },
    {
      "cell_type": "code",
      "execution_count": 100,
      "metadata": {
        "colab": {
          "base_uri": "https://localhost:8080/"
        },
        "id": "qI6KxFBB5Oyu",
        "outputId": "ca8f8a91-f529-4e43-d392-6649d0a1d928"
      },
      "outputs": [
        {
          "name": "stdout",
          "output_type": "stream",
          "text": [
            "Values greater than 10 = [11 14 17 20]\n",
            "After replacing = [ 2  5  8 11 14 -1 -1]\n"
          ]
        }
      ],
      "source": [
        "arr = np.array([2, 5, 8, 11, 14, 17, 20])\n",
        "greater_10 = arr[arr > 10]\n",
        "print('Values greater than 10 =',greater_10)\n",
        "arr[arr > 15] = -1\n",
        "print('After replacing =',arr)"
      ]
    },
    {
      "cell_type": "markdown",
      "metadata": {
        "id": "cSMQOL_78dGJ"
      },
      "source": [
        "#### 3. Fancy Indexing\n",
        "Using the 2D array `arr_2d = np.array([[5, 10, 15], [20, 25, 30], [35, 40, 45]])`, write code to:\n",
        "\n",
        "- Select the elements at positions (0,2), (1,1), and (2,0).\n",
        "- Use fancy indexing to create a submatrix with rows 0 and 2, and columns 1 and 2.\n",
        "\n",
        "- **Hint:**\n",
        " - For 1st part, use arrays of row and column indices\n",
        " - For 2nd part, you can create a submatrix using fancy indexing by using np.newaxis to match the dimensions\n"
      ]
    },
    {
      "cell_type": "code",
      "execution_count": 101,
      "metadata": {
        "colab": {
          "base_uri": "https://localhost:8080/"
        },
        "id": "FUa_XJG86eGi",
        "outputId": "76d68dce-1c40-49c1-b339-764fd26179c2"
      },
      "outputs": [
        {
          "name": "stdout",
          "output_type": "stream",
          "text": [
            "Element at pos (0,2): 15\n",
            "Element at pos (1,1): 25\n",
            "Element at pos (2,0): 35\n",
            "Sub Matrix :\n",
            " [[10 15]\n",
            " [40 45]]\n"
          ]
        }
      ],
      "source": [
        "arr_2d = np.array([[5, 10, 15], [20, 25, 30], [35, 40, 45]])\n",
        "print('Element at pos (0,2):',arr_2d[0,2])\n",
        "print('Element at pos (1,1):',arr_2d[1,1])\n",
        "print('Element at pos (2,0):',arr_2d[2,0])\n",
        "sub_matrix = arr_2d[::2,1:3]\n",
        "print('Sub Matrix :\\n',sub_matrix)"
      ]
    },
    {
      "cell_type": "markdown",
      "metadata": {
        "id": "neMikU6N8fdJ"
      },
      "source": [
        "#### 4. Slicing 1D array\n",
        "Given the array `arr = np.array([1, 3, 5, 7, 9, 11, 13, 15])`, write code to:\n",
        "\n",
        "- Extract the first 4 elements.\n",
        "- Extract every second element from the entire array.\n",
        "- Extract elements from index 2 to the end, stepping by 2."
      ]
    },
    {
      "cell_type": "code",
      "execution_count": 102,
      "metadata": {
        "colab": {
          "base_uri": "https://localhost:8080/"
        },
        "id": "cjXFlS3X7w5n",
        "outputId": "8eb258de-e8fe-429f-c99f-94f5d905d512"
      },
      "outputs": [
        {
          "name": "stdout",
          "output_type": "stream",
          "text": [
            "First 4 elements : [1 3 5 7]\n",
            "Every 2nd element : [ 3  7 11 15]\n",
            "elements from index 2 to the end, stepping by 2 : [ 5  9 13]\n"
          ]
        }
      ],
      "source": [
        "arr = np.array([1, 3, 5, 7, 9, 11, 13, 15])\n",
        "print('First 4 elements :',arr[:4])\n",
        "print('Every 2nd element :',arr[1::2])\n",
        "print('elements from index 2 to the end, stepping by 2 :',arr[2::2])"
      ]
    },
    {
      "cell_type": "markdown",
      "metadata": {
        "id": "QnTy4Zj98h4I"
      },
      "source": [
        "#### 5. Slicing a 2D Array\n",
        "Given the following 2D array:\n",
        "`arr_2d = np.array([[10, 20, 30, 40], [50, 60, 70, 80], [90, 100, 110, 120]])`\n",
        "- Slice and print the last two columns of 1st row.\n",
        "- Slice and print the last row, reversed."
      ]
    },
    {
      "cell_type": "code",
      "execution_count": 103,
      "metadata": {
        "colab": {
          "base_uri": "https://localhost:8080/"
        },
        "id": "cl0dfnoi7xWW",
        "outputId": "9645bf62-bf79-4bb3-ae8b-c7944aee80ea"
      },
      "outputs": [
        {
          "name": "stdout",
          "output_type": "stream",
          "text": [
            " last two columns of 1st row : [[30 40]]\n",
            "Last Row,Reversed : [[120 110 100  90]]\n"
          ]
        }
      ],
      "source": [
        "arr_2d = np.array([[10, 20, 30, 40], [50, 60, 70, 80], [90, 100, 110, 120]])\n",
        "x = arr_2d[:1,-2:]\n",
        "print(' last two columns of 1st row :',x)\n",
        "y = arr_2d[-1::,::-1]\n",
        "print('Last Row,Reversed :',y)"
      ]
    },
    {
      "cell_type": "markdown",
      "metadata": {
        "id": "DWgodK9V8kVv"
      },
      "source": [
        "#### 6. Handling Out-of-Range Indices in Slicing vs. Indexing\n",
        "Given the array:\n",
        "`arr = np.array([10, 20, 30, 40, 50])`\n",
        "\n",
        "\n",
        "- What will be the output of the following slicing operations? Explain why they work, even though some indices are out of range.\n",
        " - print(arr[2:10])  \n",
        " - print(arr[-10:3])    \n",
        "\n",
        "- Compare the behavior of slicing to accessing a single element with an out-of-range index (e.g., arr[10]). Why does slicing not raise an error in these cases, but indexing does?"
      ]
    },
    {
      "cell_type": "code",
      "execution_count": 104,
      "metadata": {
        "colab": {
          "base_uri": "https://localhost:8080/"
        },
        "id": "ksNWmNln7x-I",
        "outputId": "2c883819-e7b4-45e4-e33d-69f2a44ed441"
      },
      "outputs": [
        {
          "name": "stdout",
          "output_type": "stream",
          "text": [
            "[30 40 50]\n",
            "[10 20 30]\n"
          ]
        }
      ],
      "source": [
        "arr = np.array([10, 20, 30, 40, 50])\n",
        "print(arr[2:10])\n",
        "#If the given 'STOP' index is exceeding the index of the final element present in the array,then the system considers upto the last element.\n",
        "print(arr[-10:3])\n",
        "#If the given 'START' index is less than the index of the first element present in the array,then the system considers from the first element.\n",
        "# Slicing is more flexible that indexing. This is the reason for slicing not  showing error."
      ]
    },
    {
      "cell_type": "markdown",
      "metadata": {
        "id": "xDOOiJe7r_Vx"
      },
      "source": [
        "#### 7.  Work with an Audio File\n",
        "\n",
        "Download the audio file from the following link: Simple Logo - Pixabay. Load the audio file using pydub and complete the following tasks:\n",
        "\n",
        "- Extract the first second of the audio and plot its waveform.\n",
        "   - Hint: Use the frame rate to calculate how many samples are in 1 second, and use slicing to extract this part.\n",
        "\n",
        "-   Extract the last second of the audio and plot its waveform.\n",
        "  \n",
        "\n",
        "-  Combine the samples from the first second and the last second into a new array and plot the combined waveform.\n",
        " - Hint: Use NumPy’s np.concatenate() function to merge the two slices."
      ]
    },
    {
      "cell_type": "code",
      "execution_count": null,
      "metadata": {
        "id": "zaA-v19N4chm"
      },
      "outputs": [],
      "source": [
        "from email.mime import audio\n",
        "from pydub import AudioSegment\n",
        "import os\n",
        "audio_path = \"C:/Users/ROHIT REDDY MARRI/Downloads/simple logo.mp3\"\n",
        "audio = AudioSegment.from_file(audio_path)"
      ]
    },
    {
      "cell_type": "markdown",
      "metadata": {
        "id": "bRFENqbOGX1X"
      },
      "source": [
        "# **Reshaping in NumPy**\n"
      ]
    },
    {
      "cell_type": "markdown",
      "metadata": {
        "id": "VECInlRpfpw_"
      },
      "source": []
    },
    {
      "cell_type": "markdown",
      "metadata": {
        "id": "Gv2cCyxAdS3Q"
      },
      "source": [
        "####1. Create a 2D array of shape (3, 5). Flatten it into a 1D array and then reshape it back into a (5, 3) array.\n",
        "\n",
        "####2. Create a 1D array\n",
        "```\n",
        "arr = np.array([1, 2, 3, 4, 5])\n",
        "```\n",
        "####Reshape arr into (5,1), then convert to (5,) and then convert it into (1,5).\n",
        "\n",
        "\n",
        "####3. Create a 1D NumPy array with values ranging from 1 to 100. Reshape it into a (10, 10) matrix. Apply '.ravel()' and '.flatten()' on the matrix and modify the original matrix. Compare the outputs of both methods and explain the difference in memory sharing.\n",
        "\n",
        "\n",
        "####4. Generate a 5x5 NumPy matrix representing pixel intensities from an image. Use slicing to extract the central 3x3 section of the matrix and flatten it. How does reshaping impact the spatial relationships of the pixels?\n",
        "\n",
        "\n",
        "####5. Create a 3-channel RGB image as a NumPy array of shape (3, 4, 4) with random integer values between 0 and 255. Flatten the image using '.reshape()' and reshape it back to its original shape. Explain the order of pixel data stored and how reshaping affects the channel structure.\n",
        "\n"
      ]
    },
    {
      "cell_type": "code",
      "execution_count": 165,
      "metadata": {
        "cellView": "form",
        "colab": {
          "base_uri": "https://localhost:8080/"
        },
        "id": "AlVGUgoCP6qc",
        "outputId": "9d25d15a-d914-4ae2-f8f5-402f564d66b6"
      },
      "outputs": [
        {
          "name": "stdout",
          "output_type": "stream",
          "text": [
            "original array:\n",
            " [[5 4 7 6 4]\n",
            " [6 9 9 1 5]\n",
            " [4 4 1 3 3]]\n",
            "flattened aray :\n",
            " [5 4 7 6 4 6 9 9 1 5 4 4 1 3 3]\n",
            "reshaped array :\n",
            " [[5 4 7]\n",
            " [6 4 6]\n",
            " [9 9 1]\n",
            " [5 4 4]\n",
            " [1 3 3]]\n"
          ]
        }
      ],
      "source": [
        "# @title 1\n",
        "arr_2D = np.random.randint(1,10,(3,5))\n",
        "print(\"original array:\\n\",arr_2D)\n",
        "flatten_arr_2D = arr_2D.flatten()\n",
        "print(\"flattened aray :\\n\",flatten_arr_2D)\n",
        "reshape_arr = flatten_arr_2D.reshape((5,3))\n",
        "print(\"reshaped array :\\n\",reshape_arr)"
      ]
    },
    {
      "cell_type": "code",
      "execution_count": 166,
      "metadata": {
        "cellView": "form",
        "colab": {
          "base_uri": "https://localhost:8080/"
        },
        "id": "iMnU_eY2P90I",
        "outputId": "e2c78c3a-2b14-452e-8059-74e3bbe5d809"
      },
      "outputs": [
        {
          "name": "stdout",
          "output_type": "stream",
          "text": [
            "reshaped array :\n",
            " [[1]\n",
            " [2]\n",
            " [3]\n",
            " [4]\n",
            " [5]]\n",
            "flattened array :\n",
            " [1 2 3 4 5]\n",
            "final array:\n",
            " [[1 2 3 4 5]]\n"
          ]
        }
      ],
      "source": [
        "# @title 2\n",
        "arr = np.array([1, 2, 3, 4, 5])\n",
        "print(\"reshaped array :\\n\",arr.reshape(5,1))\n",
        "print(\"flattened array :\\n\",arr.reshape(5,1).flatten())\n",
        "print(\"final array:\\n\",arr.reshape(1,5))"
      ]
    },
    {
      "cell_type": "code",
      "execution_count": 170,
      "metadata": {
        "cellView": "form",
        "colab": {
          "base_uri": "https://localhost:8080/"
        },
        "id": "hHLvnETzP8p-",
        "outputId": "03855218-af45-4b3c-d93c-560bf823a03a"
      },
      "outputs": [
        {
          "name": "stdout",
          "output_type": "stream",
          "text": [
            "[[  1   2   3   4   5   6   7   8   9  10]\n",
            " [ 11  12  13  14  15  16  17  18  19  20]\n",
            " [ 21  22  23  24  25  26  27  28  29  30]\n",
            " [ 31  32  33  34  35  36  37  38  39  40]\n",
            " [ 41  42  43  44  45  46  47  48  49  50]\n",
            " [ 51  52  53  54  55  56  57  58  59  60]\n",
            " [ 61  62  63  64  65  66  67  68  69  70]\n",
            " [ 71  72  73  74  75  76  77  78  79  80]\n",
            " [ 81  82  83  84  85  86  87  88  89  90]\n",
            " [ 91  92  93  94  95  96  97  98  99 100]]\n",
            "Ravelled array :\n",
            " [ 1  2  3  4  5  6  7  8  9 10 11 12 13 14 15 16 17 18 19 20 21 22 23 24\n",
            " 25 26 27 28 29 30  0  0  0  0  0  0  0  0  0  0  0  0  0  0  0  0  0  0\n",
            "  0  0  0  0  0  0  0  0  0  0  0  0  0  0  0  0  0  0  0  0  0  0  0  0\n",
            "  0  0  0  0  0  0  0  0  0  0  0  0  0  0  0  0  0  0  0  0  0  0  0  0\n",
            "  0  0  0  0]\n",
            "Flattened array :\n",
            " [  1   2   3   4   5   6   7   8   9  10  11  12  13  14  15  16  17  18\n",
            "  19  20  21  22  23  24  25  26  27  28  29  30  31  32  33  34  35  36\n",
            "  37  38  39  40  41  42  43  44  45  46  47  48  49  50  51  52  53  54\n",
            "  55  56  57  58  59  60  61  62  63  64  65  66  67  68  69  70  71  72\n",
            "  73  74  75  76  77  78  79  80  81  82  83  84  85  86  87  88  89  90\n",
            "  91  92  93  94  95  96  97  98  99 100]\n"
          ]
        }
      ],
      "source": [
        "# @title 3\n",
        "reshaped_1D_arr = np.arange(1,101).reshape((10,10))\n",
        "print(reshaped_1D_arr)\n",
        "ravel_arr = reshaped_1D_arr.ravel()\n",
        "flatten_arr = reshaped_1D_arr.flatten()\n",
        "reshaped_1D_arr[3:] = 0\n",
        "print('Ravelled array :\\n',ravel_arr)\n",
        "print('Flattened array :\\n',flatten_arr)\n",
        "# Ravel fuction is just the view of an array,they both share the same memory. So, the changes made to any one of them will also change the other.\n",
        "#Flatten function completely makes an another flattened copy of the original array and they both have different individual memory. Since it is a copy, making changes in one does not affect the other."
      ]
    },
    {
      "cell_type": "code",
      "execution_count": 172,
      "metadata": {
        "cellView": "form",
        "colab": {
          "base_uri": "https://localhost:8080/"
        },
        "id": "4dpRzN-ZP71C",
        "outputId": "19c3faa1-32ab-4219-b43f-c077ee96cee4"
      },
      "outputs": [
        {
          "name": "stdout",
          "output_type": "stream",
          "text": [
            "[[122 103  57  17 125]\n",
            " [119 251 149 164 109]\n",
            " [207  58 139 123 183]\n",
            " [ 85   2  62 170  85]\n",
            " [161  69 135 174 123]]\n",
            "[[251 149 164]\n",
            " [ 58 139 123]\n",
            " [  2  62 170]]\n",
            "[251 149 164  58 139 123   2  62 170]\n"
          ]
        }
      ],
      "source": [
        "# @title 4\n",
        "matrix = np.random.randint(0,256,(5,5))\n",
        "print(matrix)\n",
        "sub_matrix = matrix[1:4,1:4]\n",
        "print(sub_matrix)\n",
        "flattened_sub_matrix = sub_matrix.flatten()\n",
        "print(flattened_sub_matrix)\n",
        "# While reshaping ,it converts 2D array into a 1D array and this will disrupt the spatial arrangement of the pixels. Hence this will affect programs that depend on spatial configurations."
      ]
    },
    {
      "cell_type": "code",
      "execution_count": 179,
      "metadata": {
        "cellView": "form",
        "colab": {
          "base_uri": "https://localhost:8080/",
          "height": 1000
        },
        "id": "kziOzDkCP7K7",
        "outputId": "40e90dd6-36cf-44b1-c462-8ba5e1c26991"
      },
      "outputs": [
        {
          "name": "stdout",
          "output_type": "stream",
          "text": [
            "[[[127 179 160 170]\n",
            "  [184 221 225 169]\n",
            "  [142  20 226 248]\n",
            "  [142  69 129  76]]\n",
            "\n",
            " [[206  37 201  75]\n",
            "  [134 243 105 250]\n",
            "  [ 55 225 187  87]\n",
            "  [168 188 170 115]]\n",
            "\n",
            " [[146 242 139  71]\n",
            "  [156 107  46  18]\n",
            "  [ 76 163 200  83]\n",
            "  [ 70 157 166 220]]]\n"
          ]
        },
        {
          "data": {
            "image/png": "[encoded data removed]",
            "text/plain": [
              "<Figure size 640x480 with 1 Axes>"
            ]
          },
          "metadata": {
            "image/png": {
              "height": 418,
              "width": 567
            }
          },
          "output_type": "display_data"
        },
        {
          "name": "stdout",
          "output_type": "stream",
          "text": [
            "[127 179 160 170 184 221 225 169 142  20 226 248 142  69 129  76 206  37\n",
            " 201  75 134 243 105 250  55 225 187  87 168 188 170 115 146 242 139  71\n",
            " 156 107  46  18  76 163 200  83  70 157 166 220]\n",
            "[[[127 179 160 170]\n",
            "  [184 221 225 169]\n",
            "  [142  20 226 248]\n",
            "  [142  69 129  76]]\n",
            "\n",
            " [[206  37 201  75]\n",
            "  [134 243 105 250]\n",
            "  [ 55 225 187  87]\n",
            "  [168 188 170 115]]\n",
            "\n",
            " [[146 242 139  71]\n",
            "  [156 107  46  18]\n",
            "  [ 76 163 200  83]\n",
            "  [ 70 157 166 220]]]\n"
          ]
        },
        {
          "data": {
            "image/png": "[encoded data removed]",
            "text/plain": [
              "<Figure size 640x480 with 1 Axes>"
            ]
          },
          "metadata": {
            "image/png": {
              "height": 418,
              "width": 567
            }
          },
          "output_type": "display_data"
        }
      ],
      "source": [
        "# @title 5\n",
        "image = np.random.randint(0,256,(3,4,4))\n",
        "print(image)\n",
        "plt.imshow(image)\n",
        "plt.show()\n",
        "flatten_image = image.reshape(-1)\n",
        "print(flatten_image)\n",
        "final_image = flatten_image.reshape((3,4,4))\n",
        "print(final_image)\n",
        "plt.imshow(final_image)\n",
        "plt.show()\n",
        "# The pixel data of channels is stored in the continuous 1D array where each channel has its own 1D array. When we flaten the image all the channels align in a single 1D array one by one. If it reshaped again then they return to their original positions.\n",
        "#Reshaping doesn't affect the channel structure, but just changees the veiw point of the structure."
      ]
    },
    {
      "cell_type": "markdown",
      "metadata": {
        "id": "6N9gUypIpV_H"
      },
      "source": [
        "# **Universal Functions**\n",
        "\n",
        "Q1) Given an array x = [1, 4, 9, 16, 25], compute the square root of each element in the array and print the result.\n",
        "\n",
        "Q2) Create an array angles =[0, $\\frac{\\pi}{2}$, $\\pi$, $\\frac{3\\pi}{2}$]\n",
        ", calculate the sine of each angle and print the result.\n",
        "\n",
        "\n",
        "\n",
        "Q3) Given two arrays a =[True, False, True] and b = [False, False, True], perform an element-wise logical AND operation and print the result.\n",
        "\n",
        "Q4) Create two arrays x = [1, 2, 3, 4] and y = [2, 2, 3, 5], perform an element-wise comparison (x < y) and print the result.\n",
        "\n",
        "Q5) Create an array x =[-2, -1, 0, 1, 2, 3, 4], compute the following element-wise operation:\n",
        "\n",
        "* If an element is negative, square it.\n",
        "* If an element is non-negative, compute its exponential.\n",
        "Print the resulting array."
      ]
    },
    {
      "cell_type": "code",
      "execution_count": 181,
      "metadata": {
        "cellView": "form",
        "colab": {
          "base_uri": "https://localhost:8080/"
        },
        "id": "Q13F1Yfoi6ic",
        "outputId": "736ab727-d09e-48a8-d297-3ac9f8b75511"
      },
      "outputs": [
        {
          "name": "stdout",
          "output_type": "stream",
          "text": [
            "after applying square root = [1. 2. 3. 4. 5.]\n"
          ]
        }
      ],
      "source": [
        "# @title 1\n",
        "x = np.array([1,4,9,16,25])\n",
        "sqrt_x = np.sqrt(x)\n",
        "print(\"after applying square root =\",sqrt_x)"
      ]
    },
    {
      "cell_type": "code",
      "execution_count": 190,
      "metadata": {
        "cellView": "form",
        "colab": {
          "base_uri": "https://localhost:8080/"
        },
        "id": "rqL1-Dgii6YE",
        "outputId": "371fbbb6-692c-4752-e4c4-363d03cbd4ea"
      },
      "outputs": [
        {
          "name": "stdout",
          "output_type": "stream",
          "text": [
            "[ 0  1  0 -1]\n"
          ]
        }
      ],
      "source": [
        "# @title 2\n",
        "angles = np.array([0, np.pi/2, np.pi, 3*np.pi/2])\n",
        "sin_values = np.sin(angles).astype(int)\n",
        "print(sin_values)"
      ]
    },
    {
      "cell_type": "code",
      "execution_count": 194,
      "metadata": {
        "cellView": "form",
        "colab": {
          "base_uri": "https://localhost:8080/"
        },
        "id": "TjlB4OYXi6Qf",
        "outputId": "df9979d3-1fd2-4a38-82f8-21b2c6d67d42"
      },
      "outputs": [
        {
          "name": "stdout",
          "output_type": "stream",
          "text": [
            "after performing element wise and operation: [False False  True]\n"
          ]
        }
      ],
      "source": [
        "# @title 3\n",
        "a = np.array([True, False, True])\n",
        "b = np.array([False, False, True])\n",
        "print('after performing element wise and operation:',a & b)"
      ]
    },
    {
      "cell_type": "code",
      "execution_count": 197,
      "metadata": {
        "cellView": "form",
        "colab": {
          "base_uri": "https://localhost:8080/"
        },
        "id": "05kPTLgdi6I5",
        "outputId": "dad95671-c26e-42ee-9e74-8c1c0c0e4bb3"
      },
      "outputs": [
        {
          "name": "stdout",
          "output_type": "stream",
          "text": [
            "element wise comparision : [ True False False  True]\n"
          ]
        }
      ],
      "source": [
        "# @title 4\n",
        "x = np.array([1, 2, 3, 4])\n",
        "y = np.array([2, 2, 3, 5])\n",
        "print(\"element wise comparision :\",x < y)"
      ]
    },
    {
      "cell_type": "code",
      "execution_count": 201,
      "metadata": {
        "cellView": "form",
        "colab": {
          "base_uri": "https://localhost:8080/"
        },
        "id": "ms50DVMji6BQ",
        "outputId": "b882b64c-975e-40f5-8aef-8c48ff3d1cc3"
      },
      "outputs": [
        {
          "name": "stdout",
          "output_type": "stream",
          "text": [
            "[ 4.          1.          1.          2.71828183  7.3890561  20.08553692\n",
            " 54.59815003]\n"
          ]
        }
      ],
      "source": [
        "# @title 5\n",
        "x = np.array([-2, -1, 0, 1, 2, 3, 4])\n",
        "mask1 = x < 0\n",
        "mask2 = x >= 0\n",
        "result = np.where(mask1, x**2, np.exp(x))\n",
        "print(result)"
      ]
    },
    {
      "cell_type": "markdown",
      "metadata": {
        "id": "gpcuUfrjZiBa"
      },
      "source": [
        "# **Aggregations**\n",
        "\n",
        "####1. Generate a random array of size 10.\n",
        " calculate the following:\n",
        "- Print the array\n",
        "- The sum of all elements.\n",
        "- The mean of the array.\n",
        "- The standard deviation.\n",
        "- Find 5$*$Minimum -3$*$Maximum\n",
        "\n",
        "####2. Generate a 4x5 matrix with random integers between 1 and 50.\n",
        "- Print the matrix.\n",
        "- Compute the mean of all elements in the matrix.\n",
        "- Compute the sum of each row in the matrix.\n",
        "\n",
        "####3. Generate a random 3x3 matrix with random integers between 1 to 10\n",
        "- Find the minimum value in each column and store it in a separate list min.\n",
        "- Find the maximum value in each row and store it in a separate list max.\n",
        "- Find the value of minimum of list max - maximum of list min.\n",
        "\n",
        "####4. Given the array : data = np.array([15, 25, 35, 45, 55, 65]):\n",
        "- Find the minimum value.\n",
        "- Subtract this minimum value from all elements of the array and then calculate the mean of the resulting array.\n",
        "\n",
        "####5. Given the array : arr = np.array([3, 5, 7, 9, 11]):\n",
        "- Compute the cumulative sum of the elements.\n",
        "- Compute the cumulative product of the elements.\n",
        "\n",
        "####6. Imagine you have a dataset representing the scores of 4 students in 3 subjects:\n",
        "scores = np.array([[85, 92, 78], [88, 76, 95], [91, 89, 82], [75, 85, 88]])\n",
        "- Compute the average score for each student.\n",
        "- Compute the highest score in each subject.\n",
        "- Determine the overall average score for all students across all subjects."
      ]
    },
    {
      "cell_type": "code",
      "execution_count": 203,
      "metadata": {
        "cellView": "form",
        "colab": {
          "base_uri": "https://localhost:8080/"
        },
        "id": "LrB9nV2nJQTE",
        "outputId": "ca86b5d5-e81c-441d-889c-1c943483d074"
      },
      "outputs": [
        {
          "name": "stdout",
          "output_type": "stream",
          "text": [
            "array : [ 57  54 124 113   2  69  93  74 133  82]\n",
            "sum = 801\n",
            "mean = 80.1\n",
            "standard deviation = 36.6781951573411\n",
            "5 ∗ Minimum -3 ∗ Maximum = -389\n"
          ]
        }
      ],
      "source": [
        "# @title 1\n",
        "arr = np.random.randint(1,200,size = 10)\n",
        "print('array :',arr)\n",
        "print('sum =',np.sum(arr))\n",
        "print('mean =',np.mean(arr))\n",
        "print('standard deviation =',np.std(arr))\n",
        "print('5 ∗ Minimum -3 ∗ Maximum =',5*np.min(arr)-3*max(arr))"
      ]
    },
    {
      "cell_type": "code",
      "execution_count": 204,
      "metadata": {
        "cellView": "form",
        "colab": {
          "base_uri": "https://localhost:8080/"
        },
        "id": "zx3KhL5DJQLg",
        "outputId": "e98bb5f3-14ec-446f-8059-0d2065967978"
      },
      "outputs": [
        {
          "name": "stdout",
          "output_type": "stream",
          "text": [
            "matrix : [[15 10 25 21 27]\n",
            " [ 8 43 43 22 14]\n",
            " [48 17  5 33 47]\n",
            " [38 11 24 43  4]]\n",
            "mean = 24.9\n",
            "sum of each row = [ 98 130 150 120]\n"
          ]
        }
      ],
      "source": [
        "# @title 2\n",
        "matrix = np.random.randint(2,50,(4,5))\n",
        "print('matrix :',matrix)\n",
        "print('mean =',np.mean(matrix))\n",
        "sum = np.sum(matrix,axis = 1)\n",
        "print('sum of each row =',sum)"
      ]
    },
    {
      "cell_type": "code",
      "execution_count": 209,
      "metadata": {
        "cellView": "form",
        "colab": {
          "base_uri": "https://localhost:8080/"
        },
        "id": "eOR1uBgxJQE8",
        "outputId": "069a2fb9-2c4d-4600-ee74-92b9a7a5e12f"
      },
      "outputs": [
        {
          "name": "stdout",
          "output_type": "stream",
          "text": [
            "matrix :\n",
            " [[15 10 25 21 27]\n",
            " [ 8 43 43 22 14]\n",
            " [48 17  5 33 47]\n",
            " [38 11 24 43  4]]\n",
            "list min: [21, 10, 8, 5, 4]\n",
            "list max: [27, 43, 43, 48]\n",
            "value of minimum of list max - maximum of list min : 6\n"
          ]
        }
      ],
      "source": [
        "# @title 3\n",
        "mtrix = np.random.randint(1,11,(3,3))\n",
        "print('matrix :\\n',matrix)\n",
        "min = list(np.min(matrix, axis = 0))\n",
        "max = list(np.max(matrix, axis = 1))\n",
        "min.sort(reverse = True)\n",
        "max.sort()\n",
        "print('list min:',min)\n",
        "print('list max:',max)\n",
        "print('value of minimum of list max - maximum of list min :',max[0]-min[0])"
      ]
    },
    {
      "cell_type": "code",
      "execution_count": 211,
      "metadata": {
        "cellView": "form",
        "colab": {
          "base_uri": "https://localhost:8080/"
        },
        "id": "I5ks3LxIJP9I",
        "outputId": "cc93c0a2-c787-4e74-82ff-08eb47ca8ece"
      },
      "outputs": [
        {
          "name": "stdout",
          "output_type": "stream",
          "text": [
            "Min Value = 15\n",
            "Mean =  25.0\n"
          ]
        }
      ],
      "source": [
        "# @title 4\n",
        "data = np.array([15, 25, 35, 45, 55, 65])\n",
        "min_value = np.min(data)\n",
        "print(\"Min Value =\",min_value)\n",
        "mean = (data - min_value).mean()\n",
        "print('Mean = ',mean)"
      ]
    },
    {
      "cell_type": "code",
      "execution_count": 212,
      "metadata": {
        "cellView": "form",
        "colab": {
          "base_uri": "https://localhost:8080/"
        },
        "id": "PgRZ6K5mJPsx",
        "outputId": "529e2706-a090-4fba-eb0f-1b0fe5c1d54e"
      },
      "outputs": [
        {
          "name": "stdout",
          "output_type": "stream",
          "text": [
            "cumulative sum= [ 3  8 15 24 35]\n",
            "cumulative product = [    3    15   105   945 10395]\n"
          ]
        }
      ],
      "source": [
        "# @title 5\n",
        "arr = np.array([3, 5, 7, 9, 11])\n",
        "cum_sum = np.cumsum(arr)\n",
        "cum_product = np.cumprod(arr)\n",
        "print('cumulative sum=',cum_sum)\n",
        "print('cumulative product =',cum_product)"
      ]
    },
    {
      "cell_type": "code",
      "execution_count": 213,
      "metadata": {
        "cellView": "form",
        "colab": {
          "base_uri": "https://localhost:8080/"
        },
        "id": "XAaxHj_CJPVT",
        "outputId": "0b7db699-3607-41c5-b241-ec4de4d1de46"
      },
      "outputs": [
        {
          "name": "stdout",
          "output_type": "stream",
          "text": [
            "Average score for each student: [85.         86.33333333 87.33333333 82.66666667]\n",
            "Highest score in each subject: [91 92 95]\n",
            "Overall average score: 85.33333333333333\n"
          ]
        }
      ],
      "source": [
        "# @title 6\n",
        "scores = np.array([[85, 92, 78], [88, 76, 95], [91, 89, 82], [75, 85, 88]])\n",
        "avg_per_student = np.mean(scores, axis=1)\n",
        "print(\"Average score for each student:\", avg_per_student)\n",
        "highest_per_subject = np.max(scores, axis=0)\n",
        "print(\"Highest score in each subject:\", highest_per_subject)\n",
        "overall_avg = np.mean(scores)\n",
        "print(\"Overall average score:\", overall_avg)"
      ]
    },
    {
      "cell_type": "markdown",
      "metadata": {
        "id": "bXLxBAUL3cRt"
      },
      "source": [
        "# **Broadcasting in NumPy**\n",
        "\n",
        "\n",
        "\n",
        "####1. Given two arrays:\n",
        "\n",
        "A = np.array([[1, 2, 3], [4, 5, 6], [7, 8, 9]]) (shape: (3, 3))\n",
        "B = np.array([10, 20, 30]) (shape: (3,))\n",
        "Perform elementwise addition of A and B using broadcasting and print the result.\n",
        "\n",
        "What is the resulting shape?\n",
        "\n",
        "\n",
        "\n",
        "\n",
        "\n",
        "####2. Write a function check_broadcasting(shape1, shape2) that:\n",
        "\n",
        "Accepts two shapes as input and checks if they are broadcast-compatible.\n",
        "Use the function to test the following shape pairs:\n",
        "(3, 4) and (4,)\n",
        "(2, 1, 5) and (3, 5)\n",
        "(2, 3) and (2,)\n",
        "\n",
        "For each case:\n",
        "\n",
        "* State whether broadcasting is possible.\n",
        "\n",
        "* If possible, state the resulting shape of the operation\n",
        "\n",
        "####3. Create a 2D array A of shape (3, 5) with random integers between 1 and 10.\n",
        "Create a 1D array B of shape (5,) with random integers between 1 and 5.\n",
        "Use broadcasting to subtract B from each row of A and print the result.\n",
        "\n",
        "####4.  Create a 3D array A with shape (2, 4, 3) filled with random integers between 0 and 10.\n",
        "\n",
        "* Create an array B of shape (4, 3) containing a constant value of 5.\n",
        "* Use broadcasting to add B to each 2D array slice of A.\n",
        "* Print the result\n",
        "\n",
        "####5. : You are given a grayscale image of shape (32, 32), where each pixel value is an integer. You want to apply a scaling factor of 0.5 to all the pixel values using broadcasting.\n",
        "\n",
        "\n",
        "* Use broadcasting to scale the image by multiplying it with the scaling factor 0.5.\n",
        "* Verify that the pixel values of the image are halved by printing the scaled image.\n",
        "\n",
        "####6. Calculate the distance between an observation point and a set of code points (codes). The goal is to find the closest code to the observation by calculating the Euclidean distance between each code and the observation.\n",
        "\n",
        "* Given two arrays :\n",
        "\n",
        "codes = np.array([\n",
        "    [1.0, 2.0, 3.0],\n",
        "    [4.0, 5.0, 6.0],\n",
        "    [7.0, 8.0, 9.0],\n",
        "    [1.0, 1.0, 1.0],\n",
        "    [2.0, 3.0, 4.0]\n",
        "])\n",
        "\n",
        "\n",
        "observation = np.array([3.0, 3.0, 3.0])\n",
        "\n",
        "\n",
        "* Use broadcasting to calculate the squared Euclidean distance between the observation and each code.\n",
        "* Find and print the index of the closest code to the observation.\n",
        "* Print the distance between the observation and the closest code.\n",
        "\n",
        "**HINT : use np.argmin() to find the index of the closest code**\n",
        "\n",
        "\n"
      ]
    },
    {
      "cell_type": "code",
      "execution_count": 79,
      "metadata": {
        "cellView": "form",
        "colab": {
          "base_uri": "https://localhost:8080/"
        },
        "id": "2ZT6g6YNx285",
        "outputId": "bc85e0e1-642d-40b9-b225-517b70adcfe1"
      },
      "outputs": [
        {
          "name": "stdout",
          "output_type": "stream",
          "text": [
            "[[11 22 33]\n",
            " [14 25 36]\n",
            " [17 28 39]]\n",
            "(3, 3)\n"
          ]
        }
      ],
      "source": [
        "# @title 1\n",
        "A = np.array([[1, 2, 3], [4, 5, 6], [7, 8, 9]])\n",
        "B = np.array([10, 20, 30])\n",
        "added_result = A + B\n",
        "print(added_result)\n",
        "print(added_result.shape)"
      ]
    },
    {
      "cell_type": "code",
      "execution_count": 160,
      "metadata": {
        "cellView": "form",
        "colab": {
          "base_uri": "https://localhost:8080/"
        },
        "id": "_B3RqYGDx218",
        "outputId": "519276d5-829e-4dd7-8667-6de9cdc4f2d4"
      },
      "outputs": [
        {
          "name": "stdout",
          "output_type": "stream",
          "text": [
            "(3,4) and (4,)  ('can be Broadcasted', 'shape =', (3, 4))\n",
            "(2,1,5) and (3,5)  ('can be Broadcasted', 'shape =', (2, 3, 5))\n",
            "(2,3) and (2,)  (\"can't be Broadcasted\", None)\n"
          ]
        }
      ],
      "source": [
        "# @title 2\n",
        "def check_broadcasting(shape1, shape2):\n",
        "    try:\n",
        "        result = np.broadcast(np.empty(shape1), np.empty(shape2))\n",
        "        return 'can be Broadcasted', \"shape =\",result.shape\n",
        "    except ValueError:\n",
        "        return \"can't be Broadcasted\", None\n",
        "print('(3,4) and (4,) ',check_broadcasting((3,4),(4,)))\n",
        "print('(2,1,5) and (3,5) ',check_broadcasting((2,1,5),(3,5)))\n",
        "print('(2,3) and (2,) ',check_broadcasting((2,3),(2,)))"
      ]
    },
    {
      "cell_type": "code",
      "execution_count": 88,
      "metadata": {
        "cellView": "form",
        "colab": {
          "base_uri": "https://localhost:8080/"
        },
        "id": "m1k97bh8x2ub",
        "outputId": "550242da-3758-4f2d-9973-68ca5517eb79"
      },
      "outputs": [
        {
          "name": "stdout",
          "output_type": "stream",
          "text": [
            "[[4 2 6 5 6]\n",
            " [7 3 5 9 8]\n",
            " [7 5 8 5 2]]\n",
            "[1 3 3 1 1]\n",
            "A - B = [[ 3 -1  3  4  5]\n",
            " [ 6  0  2  8  7]\n",
            " [ 6  2  5  4  1]]\n"
          ]
        }
      ],
      "source": [
        "# @title 3\n",
        "A = np.random.randint(2,10,(3,5))\n",
        "print(A)\n",
        "B = np.random.randint(1,5,(5,))\n",
        "print(B)\n",
        "#subtracting B from each row of A is same as subtracting B from A.\n",
        "print('A - B =',A-B)"
      ]
    },
    {
      "cell_type": "code",
      "execution_count": 92,
      "metadata": {
        "cellView": "form",
        "colab": {
          "base_uri": "https://localhost:8080/"
        },
        "id": "KtrciOyBx2m2",
        "outputId": "21a9e7fe-417c-40bb-d899-5ce1295a063c"
      },
      "outputs": [
        {
          "name": "stdout",
          "output_type": "stream",
          "text": [
            "A :\n",
            " [[[7 9 4]\n",
            "  [9 8 1]\n",
            "  [9 6 4]\n",
            "  [9 6 2]]\n",
            "\n",
            " [[7 8 9]\n",
            "  [9 7 8]\n",
            "  [1 1 5]\n",
            "  [2 4 4]]]\n",
            "B :\n",
            " [[5 5 5]\n",
            " [5 5 5]\n",
            " [5 5 5]\n",
            " [5 5 5]]\n",
            "Result of A + B (after broadcasting):\n",
            " [[[12 14  9]\n",
            "  [14 13  6]\n",
            "  [14 11  9]\n",
            "  [14 11  7]]\n",
            "\n",
            " [[12 13 14]\n",
            "  [14 12 13]\n",
            "  [ 6  6 10]\n",
            "  [ 7  9  9]]]\n"
          ]
        }
      ],
      "source": [
        "# @title 4\n",
        "A = np.random.randint(1,10,(2,4,3))\n",
        "print('A :\\n',A)\n",
        "B = np.full((4,3),5)\n",
        "print('B :\\n',B)\n",
        "print(\"Result of A + B (after broadcasting):\\n\",A+B)"
      ]
    },
    {
      "cell_type": "code",
      "execution_count": 94,
      "metadata": {
        "cellView": "form",
        "colab": {
          "base_uri": "https://localhost:8080/"
        },
        "id": "jQLsQlcTx2eN",
        "outputId": "236da108-cc97-43d9-bdf5-991b5ce25027"
      },
      "outputs": [
        {
          "name": "stdout",
          "output_type": "stream",
          "text": [
            "Original Image :\n",
            " [[244  44 118 ... 216 220  20]\n",
            " [ 77 190 186 ... 250   0 255]\n",
            " [ 22 243 158 ... 254 248  81]\n",
            " ...\n",
            " [ 54 123 136 ... 221 173 231]\n",
            " [136 163   7 ... 229 161 166]\n",
            " [140  76  73 ... 144  58 155]]\n",
            "Scaled Image :\n",
            " [[122.   22.   59.  ... 108.  110.   10. ]\n",
            " [ 38.5  95.   93.  ... 125.    0.  127.5]\n",
            " [ 11.  121.5  79.  ... 127.  124.   40.5]\n",
            " ...\n",
            " [ 27.   61.5  68.  ... 110.5  86.5 115.5]\n",
            " [ 68.   81.5   3.5 ... 114.5  80.5  83. ]\n",
            " [ 70.   38.   36.5 ...  72.   29.   77.5]]\n"
          ]
        }
      ],
      "source": [
        "# @title 5\n",
        "image = np.random.randint(0,256,(32,32))\n",
        "print('Original Image :\\n',image)\n",
        "scale_factor = 0.5\n",
        "scaled_image = image*scale_factor\n",
        "print('Scaled Image :\\n',scaled_image)"
      ]
    },
    {
      "cell_type": "code",
      "execution_count": 95,
      "metadata": {
        "cellView": "form",
        "colab": {
          "base_uri": "https://localhost:8080/"
        },
        "id": "ZljV-R0dx194",
        "outputId": "ea39115d-a221-4796-b873-3262f660cbee"
      },
      "outputs": [
        {
          "name": "stdout",
          "output_type": "stream",
          "text": [
            "The index of the closest code: 4\n",
            "The Euclidean distance to the closest code: 1.4142135623730951\n"
          ]
        }
      ],
      "source": [
        "# @title 6\n",
        "codes = np.array([[1.0, 2.0, 3.0], [4.0, 5.0, 6.0], [7.0, 8.0, 9.0], [1.0, 1.0, 1.0], [2.0, 3.0, 4.0]])\n",
        "observation = np.array([3.0, 3.0, 3.0])\n",
        "diff = codes - observation\n",
        "squared_distances = np.sum(diff**2, axis=1)\n",
        "closest_index = np.argmin(squared_distances)\n",
        "closest_distance = squared_distances[closest_index]**0.5\n",
        "print(f\"The index of the closest code: {closest_index}\")\n",
        "print(f\"The Euclidean distance to the closest code: {closest_distance}\")"
      ]
    },
    {
      "cell_type": "markdown",
      "metadata": {
        "id": "ehP-oE00BN3l"
      },
      "source": [
        "# Concatenation\n",
        "\n",
        "1. Write a program to vertically stack arrays using `np.vstack` and print the result: (Use any three 1D arrays) <br/>\n",
        "<br/>\n",
        "2. Write a program to horizontally stack arrays using `np.hstack`. Print the result: (Use any three 1D arrays) <br/>\n",
        "<br/>\n",
        "3. Given two 2D arrays of the same row size, horizontally stack them using `np.hstack` and print the result:<br/>\n",
        "`m = np.array([[2, 4], [3, 6]])`<br/>\n",
        "`n = np.array([[4, 8], [5, 10]])`<br/>\n",
        "<br/>\n",
        "4. Using `np.vstack`, stack the following arrays vertically and print the results:<br/>\n",
        "`a = np.array([11, 12, 13])`<br/>\n",
        "`b = np.array([[14, 15, 16], [17, 18, 19]])`<br/>\n",
        "<br/>\n",
        "5. Concatenate the following 2D arrays along different axes using `np.concatenate`. Demonstrate how to concatenate them along axis 0 and axis 1.<br/>\n",
        "`x = np.array([[1, 2], [3, 4]])`<br/>\n",
        "`y = np.array([[5, 6], [7, 8]])`<br/>\n",
        "`z = np.array([[9, 10], [11, 12]])`<br/>"
      ]
    },
    {
      "cell_type": "code",
      "execution_count": 115,
      "metadata": {
        "cellView": "form",
        "colab": {
          "base_uri": "https://localhost:8080/"
        },
        "id": "4riI8JZlGIeB",
        "outputId": "f1d7bfd2-ac0e-45b5-8d03-bec9d69eeb6c"
      },
      "outputs": [
        {
          "name": "stdout",
          "output_type": "stream",
          "text": [
            "VStack :\n",
            " [[1 2 3 4]\n",
            " [5 6 7 8]\n",
            " [9 0 1 2]]\n"
          ]
        }
      ],
      "source": [
        "# @title 1\n",
        "arr1 = np.array([1,2,3,4])\n",
        "arr2 = np.array([5,6,7,8])\n",
        "arr3 = np.array([9,0,1,2])\n",
        "print('VStack :\\n', np.vstack([arr1,arr2,arr3]))"
      ]
    },
    {
      "cell_type": "code",
      "execution_count": 116,
      "metadata": {
        "cellView": "form",
        "colab": {
          "base_uri": "https://localhost:8080/"
        },
        "id": "kgF9TTToHKsQ",
        "outputId": "3304e4a9-bab2-4508-ef18-e5f338f6baa0"
      },
      "outputs": [
        {
          "name": "stdout",
          "output_type": "stream",
          "text": [
            "HStack :\n",
            " [1 2 3 4 5 6 7 8 9 0 1 2]\n"
          ]
        }
      ],
      "source": [
        "# @title 2\n",
        "arr1 = np.array([1,2,3,4])\n",
        "arr2 = np.array([5,6,7,8])\n",
        "arr3 = np.array([9,0,1,2])\n",
        "print('HStack :\\n', np.hstack([arr1,arr2,arr3]))"
      ]
    },
    {
      "cell_type": "code",
      "execution_count": 117,
      "metadata": {
        "cellView": "form",
        "colab": {
          "base_uri": "https://localhost:8080/"
        },
        "id": "dHDJsJYNHKm4",
        "outputId": "5f50ce7d-7979-48a8-b9ac-09af4b50544f"
      },
      "outputs": [
        {
          "name": "stdout",
          "output_type": "stream",
          "text": [
            "HStack :\n",
            " [[ 2  4  4  8]\n",
            " [ 3  6  5 10]]\n"
          ]
        }
      ],
      "source": [
        "# @title 3\n",
        "m = np.array([[2, 4], [3, 6]])\n",
        "n = np.array([[4, 8], [5, 10]])\n",
        "print('HStack :\\n',np.hstack([m,n]))"
      ]
    },
    {
      "cell_type": "code",
      "execution_count": 118,
      "metadata": {
        "cellView": "form",
        "colab": {
          "base_uri": "https://localhost:8080/"
        },
        "id": "_K4mXnlfHKew",
        "outputId": "9bc47e37-3011-48b5-d828-736bb25cfbde"
      },
      "outputs": [
        {
          "name": "stdout",
          "output_type": "stream",
          "text": [
            "VStack :\n",
            " [[11 12 13]\n",
            " [14 15 16]\n",
            " [17 18 19]]\n"
          ]
        }
      ],
      "source": [
        "# @title 4\n",
        "a = np.array([11, 12, 13])\n",
        "b = np.array([[14, 15, 16], [17, 18, 19]])\n",
        "print('VStack :\\n',np.vstack([a,b]))"
      ]
    },
    {
      "cell_type": "code",
      "execution_count": 122,
      "metadata": {
        "cellView": "form",
        "colab": {
          "base_uri": "https://localhost:8080/"
        },
        "id": "Pl0wexULHKT_",
        "outputId": "00f3c178-8ebd-417a-838c-056366b26c11"
      },
      "outputs": [
        {
          "name": "stdout",
          "output_type": "stream",
          "text": [
            "Vertical_concatenated_form :\n",
            " [[ 1  2]\n",
            " [ 3  4]\n",
            " [ 5  6]\n",
            " [ 7  8]\n",
            " [ 9 10]\n",
            " [11 12]]\n",
            "Horizontal_concatenated_form :\n",
            " [[ 1  2  5  6  9 10]\n",
            " [ 3  4  7  8 11 12]]\n"
          ]
        }
      ],
      "source": [
        "# @title 5\n",
        "x = np.array([[1, 2], [3, 4]])\n",
        "y = np.array([[5, 6], [7, 8]])\n",
        "z = np.array([[9, 10], [11, 12]])\n",
        "print('Vertical_concatenated_form :\\n',np.concatenate([x,y,z],axis = 0))\n",
        "print('Horizontal_concatenated_form :\\n',np.concatenate([x,y,z],axis = 1))"
      ]
    },
    {
      "cell_type": "markdown",
      "metadata": {
        "id": "NCs1VlmHiFli"
      },
      "source": [
        "# Boolean Masking\n",
        "\n",
        "1. Use Boolean masking to filter elements from a 1D array:\n",
        "Write a program to create a 1D array and use Boolean masking to filter out all elements greater than 5.<br/>\n",
        "\n",
        "2. Apply a Boolean mask to a 2D array:\n",
        "Given the 2D array below, create a Boolean mask to select all elements greater than 10 and print the masked elements.<br/>\n",
        "`arr = np.array([[5, 12, 18], [7, 1, 3], [11, 6, 14]])`\n",
        " <br/>\n",
        "3. Create a Boolean mask using a condition on an array:\n",
        "Create a 1D array of integers from 0 to 10. Use a Boolean mask to filter out all even numbers and print the result.<br/>\n",
        "Example:\n",
        "`arr = np.arange(11)`\n",
        "<br/>\n",
        "4. Combine Boolean masks using logical operations:\n",
        "Given the array below, create and combine two Boolean masks:<br/>\n",
        "One mask selects elements greater than 5.\n",
        "The other mask selects elements divisible by 3.\n",
        "Combine the masks using logical AND and print the result.\n",
        "Example:\n",
        "`arr = np.array([1, 3, 6, 9, 12, 15])`\n",
        "<br/>\n",
        "5. Mask elements in a 2D array and replace them:\n",
        "Write a program to replace all elements less than 5 in the 2D array below with 0 using Boolean masking.\n",
        "<br/>\n",
        "6.  Count elements satisfying a condition using Boolean masks:\n",
        "Write a program to count how many elements in the array below are greater than 5.\n",
        "<br/>"
      ]
    },
    {
      "cell_type": "code",
      "execution_count": 98,
      "metadata": {
        "cellView": "form",
        "colab": {
          "base_uri": "https://localhost:8080/"
        },
        "id": "yiIaBAU3AM-f",
        "outputId": "f1b10906-9649-478e-83b4-4aa7ec8686a9"
      },
      "outputs": [
        {
          "name": "stdout",
          "output_type": "stream",
          "text": [
            "[1 8 3 3 4 5 4 7 4 1]\n",
            "[8 7]\n"
          ]
        }
      ],
      "source": [
        "# @title 1\n",
        "arr_1D = np.random.randint(1,10,(10,))\n",
        "print(arr_1D)\n",
        "mask = arr_1D > 5\n",
        "filtered_arr_1D = arr_1D[mask]\n",
        "print(filtered_arr_1D)"
      ]
    },
    {
      "cell_type": "code",
      "execution_count": 106,
      "metadata": {
        "cellView": "form",
        "colab": {
          "base_uri": "https://localhost:8080/"
        },
        "id": "vkf3uOscAN-Q",
        "outputId": "0a00a1ca-6ab0-4272-91a9-128f03a7214e"
      },
      "outputs": [
        {
          "name": "stdout",
          "output_type": "stream",
          "text": [
            "[12 18 11 14]\n"
          ]
        }
      ],
      "source": [
        "# @title 2\n",
        "arr = np.array([[5, 12, 18], [7, 1, 3], [11, 6, 14]])\n",
        "mask = arr > 10\n",
        "masked_elements = arr[mask]\n",
        "print(masked_elements)"
      ]
    },
    {
      "cell_type": "code",
      "execution_count": 107,
      "metadata": {
        "cellView": "form",
        "colab": {
          "base_uri": "https://localhost:8080/"
        },
        "id": "thgJwA7jAN2k",
        "outputId": "82dc1173-80e6-4c0d-b694-e0a44231564b"
      },
      "outputs": [
        {
          "name": "stdout",
          "output_type": "stream",
          "text": [
            "[ 0  2  4  6  8 10]\n"
          ]
        }
      ],
      "source": [
        "# @title 3\n",
        "arr = np.arange(11)\n",
        "mask = arr % 2 == 0\n",
        "even_numbers = arr[mask]\n",
        "print(even_numbers)"
      ]
    },
    {
      "cell_type": "code",
      "execution_count": 108,
      "metadata": {
        "cellView": "form",
        "colab": {
          "base_uri": "https://localhost:8080/"
        },
        "id": "YGl8H4OtANtE",
        "outputId": "2570ee5f-446d-49fe-8ea4-65301642aa16"
      },
      "outputs": [
        {
          "name": "stdout",
          "output_type": "stream",
          "text": [
            "[ 6  9 12 15]\n"
          ]
        }
      ],
      "source": [
        "# @title 4\n",
        "arr = np.array([1, 3, 6, 9, 12, 15])\n",
        "mask1 = arr > 5\n",
        "mask2 = arr % 3 == 0\n",
        "combined_mask = mask1 & mask2\n",
        "filtered_elements = arr[combined_mask]\n",
        "print(filtered_elements)"
      ]
    },
    {
      "cell_type": "code",
      "execution_count": 111,
      "metadata": {
        "cellView": "form",
        "colab": {
          "base_uri": "https://localhost:8080/"
        },
        "id": "PWnky9_kANaP",
        "outputId": "17b195f4-085b-4e30-8e21-b89f22f5c453"
      },
      "outputs": [
        {
          "name": "stdout",
          "output_type": "stream",
          "text": [
            "[[0 9 7]\n",
            " [5 7 6]\n",
            " [6 9 0]]\n"
          ]
        }
      ],
      "source": [
        "# @title 5\n",
        "arr_2D = np.random.randint(0,10,(3,3))\n",
        "mask = arr_2D < 5\n",
        "arr_2D[mask] = 0\n",
        "print(arr_2D)"
      ]
    },
    {
      "cell_type": "code",
      "execution_count": 113,
      "metadata": {
        "cellView": "form",
        "colab": {
          "base_uri": "https://localhost:8080/"
        },
        "id": "kqfIdkmLkUaD",
        "outputId": "ddf4833f-40a4-4151-b629-4cb85b05c46e"
      },
      "outputs": [
        {
          "name": "stdout",
          "output_type": "stream",
          "text": [
            "5\n"
          ]
        }
      ],
      "source": [
        "# @title 6\n",
        "arr = np.array([10, 3, 6, 9, 12, 15])\n",
        "mask = arr > 5\n",
        "count = np.sum(mask)\n",
        "print(count)"
      ]
    }
  ],
  "metadata": {
    "colab": {
      "provenance": []
    },
    "kernelspec": {
      "display_name": "Python 3",
      "name": "python3"
    },
    "language_info": {
      "name": "python"
    }
  },
  "nbformat": 4,
  "nbformat_minor": 0
}
